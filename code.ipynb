{
  "cells": [
    {
      "cell_type": "markdown",
      "metadata": {
        "id": "Pq40CyEVWcbG"
      },
      "source": [
        "---ADMISSION: 101033"
      ]
    },
    {
      "cell_type": "code",
      "execution_count": 114,
      "metadata": {
        "id": "ZhNQh-89WcbL"
      },
      "outputs": [],
      "source": [
        "#scientific modules\n",
        "import numpy as np\n",
        "import pandas as pd \n",
        "\n",
        "#visualization module\n",
        "import matplotlib.pyplot as plt \n",
        "import seaborn as sns\n",
        "\n",
        "#nlp module\n",
        "import nltk\n",
        "import spacy\n",
        "\n",
        "import re \n",
        "import string\n",
        "\n",
        "#sklearn module (machine learning)\n",
        "from sklearn.model_selection import train_test_split\n",
        "\n",
        "#supress warnings\n",
        "import warnings\n",
        "warnings.filterwarnings(\"ignore\")"
      ]
    },
    {
      "cell_type": "code",
      "execution_count": 115,
      "metadata": {
        "id": "3FOaw9i1WcbN",
        "outputId": "5060bd98-016d-485c-e072-fc94ab398017"
      },
      "outputs": [
        {
          "data": {
            "text/html": [
              "<div>\n",
              "<style scoped>\n",
              "    .dataframe tbody tr th:only-of-type {\n",
              "        vertical-align: middle;\n",
              "    }\n",
              "\n",
              "    .dataframe tbody tr th {\n",
              "        vertical-align: top;\n",
              "    }\n",
              "\n",
              "    .dataframe thead th {\n",
              "        text-align: right;\n",
              "    }\n",
              "</style>\n",
              "<table border=\"1\" class=\"dataframe\">\n",
              "  <thead>\n",
              "    <tr style=\"text-align: right;\">\n",
              "      <th></th>\n",
              "      <th>User_ID</th>\n",
              "      <th>Description</th>\n",
              "      <th>Browser_Used</th>\n",
              "      <th>Device_Used</th>\n",
              "      <th>Is_Response</th>\n",
              "    </tr>\n",
              "  </thead>\n",
              "  <tbody>\n",
              "    <tr>\n",
              "      <th>0</th>\n",
              "      <td>id10326</td>\n",
              "      <td>The room was kind of clean but had a VERY stro...</td>\n",
              "      <td>Edge</td>\n",
              "      <td>Mobile</td>\n",
              "      <td>not happy</td>\n",
              "    </tr>\n",
              "    <tr>\n",
              "      <th>1</th>\n",
              "      <td>id10327</td>\n",
              "      <td>I stayed at the Crown Plaza April -- - April -...</td>\n",
              "      <td>Internet Explorer</td>\n",
              "      <td>Mobile</td>\n",
              "      <td>not happy</td>\n",
              "    </tr>\n",
              "    <tr>\n",
              "      <th>2</th>\n",
              "      <td>id10328</td>\n",
              "      <td>I booked this hotel through Hotwire at the low...</td>\n",
              "      <td>Mozilla</td>\n",
              "      <td>Tablet</td>\n",
              "      <td>not happy</td>\n",
              "    </tr>\n",
              "    <tr>\n",
              "      <th>3</th>\n",
              "      <td>id10329</td>\n",
              "      <td>Stayed here with husband and sons on the way t...</td>\n",
              "      <td>InternetExplorer</td>\n",
              "      <td>Desktop</td>\n",
              "      <td>happy</td>\n",
              "    </tr>\n",
              "    <tr>\n",
              "      <th>4</th>\n",
              "      <td>id10330</td>\n",
              "      <td>My girlfriends and I stayed here to celebrate ...</td>\n",
              "      <td>Edge</td>\n",
              "      <td>Tablet</td>\n",
              "      <td>not happy</td>\n",
              "    </tr>\n",
              "  </tbody>\n",
              "</table>\n",
              "</div>"
            ],
            "text/plain": [
              "   User_ID                                        Description  \\\n",
              "0  id10326  The room was kind of clean but had a VERY stro...   \n",
              "1  id10327  I stayed at the Crown Plaza April -- - April -...   \n",
              "2  id10328  I booked this hotel through Hotwire at the low...   \n",
              "3  id10329  Stayed here with husband and sons on the way t...   \n",
              "4  id10330  My girlfriends and I stayed here to celebrate ...   \n",
              "\n",
              "        Browser_Used Device_Used Is_Response  \n",
              "0               Edge      Mobile   not happy  \n",
              "1  Internet Explorer      Mobile   not happy  \n",
              "2            Mozilla      Tablet   not happy  \n",
              "3   InternetExplorer     Desktop       happy  \n",
              "4               Edge      Tablet   not happy  "
            ]
          },
          "execution_count": 115,
          "metadata": {},
          "output_type": "execute_result"
        }
      ],
      "source": [
        "#read dataset \n",
        "#df = pd.read_csv(\"Amazon_Unlocked_Mobile.csv\")\n",
        "df = pd.read_csv(\"train.csv\")\n",
        "\n",
        "df.head()"
      ]
    },
    {
      "cell_type": "markdown",
      "metadata": {
        "id": "jb8ZQtJKWcbO"
      },
      "source": [
        "EDA on the dataset (Getting to understand the datset)"
      ]
    },
    {
      "cell_type": "markdown",
      "metadata": {
        "id": "RGRImN8JWcbO"
      },
      "source": [
        "Data Facts"
      ]
    },
    {
      "cell_type": "code",
      "execution_count": 116,
      "metadata": {
        "id": "IrfBmNhNWcbP",
        "outputId": "21312e67-9965-47ab-c63d-551669b8cd38"
      },
      "outputs": [
        {
          "data": {
            "text/plain": [
              "(38932, 5)"
            ]
          },
          "execution_count": 116,
          "metadata": {},
          "output_type": "execute_result"
        }
      ],
      "source": [
        "#Getting number of rows and column \n",
        "df.shape"
      ]
    },
    {
      "cell_type": "code",
      "execution_count": 117,
      "metadata": {
        "id": "r2fqL5i1WcbP",
        "outputId": "0bd1fc01-3f01-473a-9a92-7d47073cc41a"
      },
      "outputs": [
        {
          "data": {
            "text/plain": [
              "Index(['User_ID', 'Description', 'Browser_Used', 'Device_Used', 'Is_Response'], dtype='object')"
            ]
          },
          "execution_count": 117,
          "metadata": {},
          "output_type": "execute_result"
        }
      ],
      "source": [
        "#understand the columns we have\n",
        "df.columns"
      ]
    },
    {
      "cell_type": "code",
      "execution_count": 118,
      "metadata": {
        "id": "CTTUUsrZWcbQ",
        "outputId": "4af2d42b-8143-4de8-eec0-e85b5e7c1cc7"
      },
      "outputs": [
        {
          "data": {
            "text/plain": [
              "User_ID         object\n",
              "Description     object\n",
              "Browser_Used    object\n",
              "Device_Used     object\n",
              "Is_Response     object\n",
              "dtype: object"
            ]
          },
          "execution_count": 118,
          "metadata": {},
          "output_type": "execute_result"
        }
      ],
      "source": [
        "#get data type\n",
        "df.dtypes"
      ]
    },
    {
      "cell_type": "code",
      "execution_count": 119,
      "metadata": {
        "id": "Jy5JqRwKWcbQ",
        "outputId": "8f745667-7fb8-496e-a612-dac8e6cb64d3"
      },
      "outputs": [
        {
          "name": "stdout",
          "output_type": "stream",
          "text": [
            "not happy\n",
            "happy\n"
          ]
        }
      ],
      "source": [
        "#choose top 10 brands for review\n",
        "for t in df['Is_Response'].unique():\n",
        "    print(t)"
      ]
    },
    {
      "cell_type": "code",
      "execution_count": 120,
      "metadata": {
        "id": "XnFZ18U0WcbR",
        "outputId": "54e3c997-20ad-4312-83d3-61c806fcf81b"
      },
      "outputs": [
        {
          "data": {
            "image/png": "[encoded data removed]",
            "text/plain": [
              "<Figure size 432x288 with 1 Axes>"
            ]
          },
          "metadata": {
            "needs_background": "light"
          },
          "output_type": "display_data"
        }
      ],
      "source": [
        "#get distribution of Is Response\n",
        "sns.countplot(df['Is_Response'])\n",
        "plt.title(\"Distribution of review type\")\n",
        "plt.show()"
      ]
    },
    {
      "cell_type": "code",
      "execution_count": 121,
      "metadata": {
        "id": "qzrD_PvyWcbR",
        "outputId": "5ce9cee7-dfb0-4edf-d797-681fa2887046"
      },
      "outputs": [
        {
          "data": {
            "text/plain": [
              "happy        68.12134\n",
              "not happy    31.87866\n",
              "Name: Is_Response, dtype: float64"
            ]
          },
          "execution_count": 121,
          "metadata": {},
          "output_type": "execute_result"
        }
      ],
      "source": [
        "df['Is_Response'].value_counts(normalize=True)*100"
      ]
    },
    {
      "cell_type": "code",
      "execution_count": 122,
      "metadata": {
        "id": "NP9pqaSWWcbR",
        "outputId": "959fc912-222b-4062-f540-aaef7681e137"
      },
      "outputs": [
        {
          "data": {
            "text/html": [
              "<div>\n",
              "<style scoped>\n",
              "    .dataframe tbody tr th:only-of-type {\n",
              "        vertical-align: middle;\n",
              "    }\n",
              "\n",
              "    .dataframe tbody tr th {\n",
              "        vertical-align: top;\n",
              "    }\n",
              "\n",
              "    .dataframe thead th {\n",
              "        text-align: right;\n",
              "    }\n",
              "</style>\n",
              "<table border=\"1\" class=\"dataframe\">\n",
              "  <thead>\n",
              "    <tr style=\"text-align: right;\">\n",
              "      <th></th>\n",
              "      <th>count</th>\n",
              "      <th>unique</th>\n",
              "      <th>top</th>\n",
              "      <th>freq</th>\n",
              "    </tr>\n",
              "  </thead>\n",
              "  <tbody>\n",
              "    <tr>\n",
              "      <th>User_ID</th>\n",
              "      <td>38932</td>\n",
              "      <td>38932</td>\n",
              "      <td>id10326</td>\n",
              "      <td>1</td>\n",
              "    </tr>\n",
              "    <tr>\n",
              "      <th>Description</th>\n",
              "      <td>38932</td>\n",
              "      <td>38932</td>\n",
              "      <td>The room was kind of clean but had a VERY stro...</td>\n",
              "      <td>1</td>\n",
              "    </tr>\n",
              "    <tr>\n",
              "      <th>Browser_Used</th>\n",
              "      <td>38932</td>\n",
              "      <td>11</td>\n",
              "      <td>Firefox</td>\n",
              "      <td>7367</td>\n",
              "    </tr>\n",
              "    <tr>\n",
              "      <th>Device_Used</th>\n",
              "      <td>38932</td>\n",
              "      <td>3</td>\n",
              "      <td>Desktop</td>\n",
              "      <td>15026</td>\n",
              "    </tr>\n",
              "    <tr>\n",
              "      <th>Is_Response</th>\n",
              "      <td>38932</td>\n",
              "      <td>2</td>\n",
              "      <td>happy</td>\n",
              "      <td>26521</td>\n",
              "    </tr>\n",
              "  </tbody>\n",
              "</table>\n",
              "</div>"
            ],
            "text/plain": [
              "              count unique                                                top  \\\n",
              "User_ID       38932  38932                                            id10326   \n",
              "Description   38932  38932  The room was kind of clean but had a VERY stro...   \n",
              "Browser_Used  38932     11                                            Firefox   \n",
              "Device_Used   38932      3                                            Desktop   \n",
              "Is_Response   38932      2                                              happy   \n",
              "\n",
              "               freq  \n",
              "User_ID           1  \n",
              "Description       1  \n",
              "Browser_Used   7367  \n",
              "Device_Used   15026  \n",
              "Is_Response   26521  "
            ]
          },
          "execution_count": 122,
          "metadata": {},
          "output_type": "execute_result"
        }
      ],
      "source": [
        "#statistical analysis of the dataset\n",
        "df.describe().transpose()"
      ]
    },
    {
      "cell_type": "code",
      "execution_count": 123,
      "metadata": {
        "id": "JmAE9lxOWcbS",
        "outputId": "bdb8d1c0-ee7a-411f-95b0-f7844eaaeb77"
      },
      "outputs": [
        {
          "data": {
            "text/plain": [
              "User_ID         0\n",
              "Description     0\n",
              "Browser_Used    0\n",
              "Device_Used     0\n",
              "Is_Response     0\n",
              "dtype: int64"
            ]
          },
          "execution_count": 123,
          "metadata": {},
          "output_type": "execute_result"
        }
      ],
      "source": [
        "#getting null values \n",
        "df.isna().sum()"
      ]
    },
    {
      "cell_type": "code",
      "execution_count": 124,
      "metadata": {
        "id": "Nnv0kqLaWcbS"
      },
      "outputs": [],
      "source": [
        "#removing unecessary column\n",
        "df.drop(columns = ['User_ID', 'Browser_Used', 'Device_Used'], inplace = True)"
      ]
    },
    {
      "cell_type": "markdown",
      "metadata": {
        "id": "Mg80z2trWcbS"
      },
      "source": [
        "Data cleaning"
      ]
    },
    {
      "cell_type": "code",
      "execution_count": 125,
      "metadata": {
        "id": "uAeyAjnJWcbT"
      },
      "outputs": [],
      "source": [
        "def text_clean_1(text):\n",
        "    text = text.lower()\n",
        "    text = re.sub(\"\\[.*?\\]\", '', text)\n",
        "    text = re.sub('[%s]' % re.escape(string.punctuation), '', text)\n",
        "    text = re.sub('\\w*\\d\\w', '', text)\n",
        "    return text\n",
        "\n",
        "cleaned1 = lambda x: text_clean_1(x)"
      ]
    },
    {
      "cell_type": "code",
      "execution_count": 126,
      "metadata": {
        "id": "kCb4kr9PWcbT",
        "outputId": "6143dd5e-8b73-4c44-dcf5-2dec3870a0b7"
      },
      "outputs": [
        {
          "data": {
            "text/html": [
              "<div>\n",
              "<style scoped>\n",
              "    .dataframe tbody tr th:only-of-type {\n",
              "        vertical-align: middle;\n",
              "    }\n",
              "\n",
              "    .dataframe tbody tr th {\n",
              "        vertical-align: top;\n",
              "    }\n",
              "\n",
              "    .dataframe thead th {\n",
              "        text-align: right;\n",
              "    }\n",
              "</style>\n",
              "<table border=\"1\" class=\"dataframe\">\n",
              "  <thead>\n",
              "    <tr style=\"text-align: right;\">\n",
              "      <th></th>\n",
              "      <th>Description</th>\n",
              "      <th>Is_Response</th>\n",
              "      <th>cleaned_description</th>\n",
              "    </tr>\n",
              "  </thead>\n",
              "  <tbody>\n",
              "    <tr>\n",
              "      <th>0</th>\n",
              "      <td>The room was kind of clean but had a VERY stro...</td>\n",
              "      <td>not happy</td>\n",
              "      <td>the room was kind of clean but had a very stro...</td>\n",
              "    </tr>\n",
              "    <tr>\n",
              "      <th>1</th>\n",
              "      <td>I stayed at the Crown Plaza April -- - April -...</td>\n",
              "      <td>not happy</td>\n",
              "      <td>i stayed at the crown plaza april   april   th...</td>\n",
              "    </tr>\n",
              "    <tr>\n",
              "      <th>2</th>\n",
              "      <td>I booked this hotel through Hotwire at the low...</td>\n",
              "      <td>not happy</td>\n",
              "      <td>i booked this hotel through hotwire at the low...</td>\n",
              "    </tr>\n",
              "    <tr>\n",
              "      <th>3</th>\n",
              "      <td>Stayed here with husband and sons on the way t...</td>\n",
              "      <td>happy</td>\n",
              "      <td>stayed here with husband and sons on the way t...</td>\n",
              "    </tr>\n",
              "    <tr>\n",
              "      <th>4</th>\n",
              "      <td>My girlfriends and I stayed here to celebrate ...</td>\n",
              "      <td>not happy</td>\n",
              "      <td>my girlfriends and i stayed here to celebrate ...</td>\n",
              "    </tr>\n",
              "    <tr>\n",
              "      <th>5</th>\n",
              "      <td>We had - rooms. One was very nice and clearly ...</td>\n",
              "      <td>happy</td>\n",
              "      <td>we had  rooms one was very nice and clearly ha...</td>\n",
              "    </tr>\n",
              "    <tr>\n",
              "      <th>6</th>\n",
              "      <td>My husband and I have stayed in this hotel a f...</td>\n",
              "      <td>not happy</td>\n",
              "      <td>my husband and i have stayed in this hotel a f...</td>\n",
              "    </tr>\n",
              "    <tr>\n",
              "      <th>7</th>\n",
              "      <td>My wife &amp; I stayed in this glorious city a whi...</td>\n",
              "      <td>happy</td>\n",
              "      <td>my wife  i stayed in this glorious city a whil...</td>\n",
              "    </tr>\n",
              "    <tr>\n",
              "      <th>8</th>\n",
              "      <td>My boyfriend and I stayed at the Fairmont on a...</td>\n",
              "      <td>happy</td>\n",
              "      <td>my boyfriend and i stayed at the fairmont on a...</td>\n",
              "    </tr>\n",
              "    <tr>\n",
              "      <th>9</th>\n",
              "      <td>Wonderful staff, great location, but it was de...</td>\n",
              "      <td>not happy</td>\n",
              "      <td>wonderful staff great location but it was defi...</td>\n",
              "    </tr>\n",
              "  </tbody>\n",
              "</table>\n",
              "</div>"
            ],
            "text/plain": [
              "                                         Description Is_Response  \\\n",
              "0  The room was kind of clean but had a VERY stro...   not happy   \n",
              "1  I stayed at the Crown Plaza April -- - April -...   not happy   \n",
              "2  I booked this hotel through Hotwire at the low...   not happy   \n",
              "3  Stayed here with husband and sons on the way t...       happy   \n",
              "4  My girlfriends and I stayed here to celebrate ...   not happy   \n",
              "5  We had - rooms. One was very nice and clearly ...       happy   \n",
              "6  My husband and I have stayed in this hotel a f...   not happy   \n",
              "7  My wife & I stayed in this glorious city a whi...       happy   \n",
              "8  My boyfriend and I stayed at the Fairmont on a...       happy   \n",
              "9  Wonderful staff, great location, but it was de...   not happy   \n",
              "\n",
              "                                 cleaned_description  \n",
              "0  the room was kind of clean but had a very stro...  \n",
              "1  i stayed at the crown plaza april   april   th...  \n",
              "2  i booked this hotel through hotwire at the low...  \n",
              "3  stayed here with husband and sons on the way t...  \n",
              "4  my girlfriends and i stayed here to celebrate ...  \n",
              "5  we had  rooms one was very nice and clearly ha...  \n",
              "6  my husband and i have stayed in this hotel a f...  \n",
              "7  my wife  i stayed in this glorious city a whil...  \n",
              "8  my boyfriend and i stayed at the fairmont on a...  \n",
              "9  wonderful staff great location but it was defi...  "
            ]
          },
          "execution_count": 126,
          "metadata": {},
          "output_type": "execute_result"
        }
      ],
      "source": [
        "df['cleaned_description'] = pd.DataFrame(df.Description.apply(cleaned1))\n",
        "df.head(10)"
      ]
    },
    {
      "cell_type": "code",
      "execution_count": 127,
      "metadata": {
        "id": "B2dhMna6WcbT"
      },
      "outputs": [],
      "source": [
        "def text_clean_2(text):\n",
        "    text = re.sub('[''\"\"-]', text)\n",
        "    text = re.sub('[\\n]', text)\n",
        "    return text\n",
        "\n",
        "cleaned2 = lambda x: text_clean_2(x)"
      ]
    },
    {
      "cell_type": "code",
      "execution_count": 128,
      "metadata": {
        "id": "hCErB9z9WcbU",
        "outputId": "34706aff-7f2b-488f-df72-8aa00081703f"
      },
      "outputs": [
        {
          "data": {
            "text/html": [
              "<div>\n",
              "<style scoped>\n",
              "    .dataframe tbody tr th:only-of-type {\n",
              "        vertical-align: middle;\n",
              "    }\n",
              "\n",
              "    .dataframe tbody tr th {\n",
              "        vertical-align: top;\n",
              "    }\n",
              "\n",
              "    .dataframe thead th {\n",
              "        text-align: right;\n",
              "    }\n",
              "</style>\n",
              "<table border=\"1\" class=\"dataframe\">\n",
              "  <thead>\n",
              "    <tr style=\"text-align: right;\">\n",
              "      <th></th>\n",
              "      <th>Description</th>\n",
              "      <th>Is_Response</th>\n",
              "      <th>cleaned_description</th>\n",
              "      <th>cleaned_description_new</th>\n",
              "    </tr>\n",
              "  </thead>\n",
              "  <tbody>\n",
              "    <tr>\n",
              "      <th>0</th>\n",
              "      <td>The room was kind of clean but had a VERY stro...</td>\n",
              "      <td>not happy</td>\n",
              "      <td>the room was kind of clean but had a very stro...</td>\n",
              "      <td>the room was kind of clean but had a very stro...</td>\n",
              "    </tr>\n",
              "    <tr>\n",
              "      <th>1</th>\n",
              "      <td>I stayed at the Crown Plaza April -- - April -...</td>\n",
              "      <td>not happy</td>\n",
              "      <td>i stayed at the crown plaza april   april   th...</td>\n",
              "      <td>i stayed at the crown plaza april   april   th...</td>\n",
              "    </tr>\n",
              "    <tr>\n",
              "      <th>2</th>\n",
              "      <td>I booked this hotel through Hotwire at the low...</td>\n",
              "      <td>not happy</td>\n",
              "      <td>i booked this hotel through hotwire at the low...</td>\n",
              "      <td>i booked this hotel through hotwire at the low...</td>\n",
              "    </tr>\n",
              "    <tr>\n",
              "      <th>3</th>\n",
              "      <td>Stayed here with husband and sons on the way t...</td>\n",
              "      <td>happy</td>\n",
              "      <td>stayed here with husband and sons on the way t...</td>\n",
              "      <td>stayed here with husband and sons on the way t...</td>\n",
              "    </tr>\n",
              "    <tr>\n",
              "      <th>4</th>\n",
              "      <td>My girlfriends and I stayed here to celebrate ...</td>\n",
              "      <td>not happy</td>\n",
              "      <td>my girlfriends and i stayed here to celebrate ...</td>\n",
              "      <td>my girlfriends and i stayed here to celebrate ...</td>\n",
              "    </tr>\n",
              "    <tr>\n",
              "      <th>5</th>\n",
              "      <td>We had - rooms. One was very nice and clearly ...</td>\n",
              "      <td>happy</td>\n",
              "      <td>we had  rooms one was very nice and clearly ha...</td>\n",
              "      <td>we had  rooms one was very nice and clearly ha...</td>\n",
              "    </tr>\n",
              "    <tr>\n",
              "      <th>6</th>\n",
              "      <td>My husband and I have stayed in this hotel a f...</td>\n",
              "      <td>not happy</td>\n",
              "      <td>my husband and i have stayed in this hotel a f...</td>\n",
              "      <td>my husband and i have stayed in this hotel a f...</td>\n",
              "    </tr>\n",
              "    <tr>\n",
              "      <th>7</th>\n",
              "      <td>My wife &amp; I stayed in this glorious city a whi...</td>\n",
              "      <td>happy</td>\n",
              "      <td>my wife  i stayed in this glorious city a whil...</td>\n",
              "      <td>my wife  i stayed in this glorious city a whil...</td>\n",
              "    </tr>\n",
              "    <tr>\n",
              "      <th>8</th>\n",
              "      <td>My boyfriend and I stayed at the Fairmont on a...</td>\n",
              "      <td>happy</td>\n",
              "      <td>my boyfriend and i stayed at the fairmont on a...</td>\n",
              "      <td>my boyfriend and i stayed at the fairmont on a...</td>\n",
              "    </tr>\n",
              "    <tr>\n",
              "      <th>9</th>\n",
              "      <td>Wonderful staff, great location, but it was de...</td>\n",
              "      <td>not happy</td>\n",
              "      <td>wonderful staff great location but it was defi...</td>\n",
              "      <td>wonderful staff great location but it was defi...</td>\n",
              "    </tr>\n",
              "  </tbody>\n",
              "</table>\n",
              "</div>"
            ],
            "text/plain": [
              "                                         Description Is_Response  \\\n",
              "0  The room was kind of clean but had a VERY stro...   not happy   \n",
              "1  I stayed at the Crown Plaza April -- - April -...   not happy   \n",
              "2  I booked this hotel through Hotwire at the low...   not happy   \n",
              "3  Stayed here with husband and sons on the way t...       happy   \n",
              "4  My girlfriends and I stayed here to celebrate ...   not happy   \n",
              "5  We had - rooms. One was very nice and clearly ...       happy   \n",
              "6  My husband and I have stayed in this hotel a f...   not happy   \n",
              "7  My wife & I stayed in this glorious city a whi...       happy   \n",
              "8  My boyfriend and I stayed at the Fairmont on a...       happy   \n",
              "9  Wonderful staff, great location, but it was de...   not happy   \n",
              "\n",
              "                                 cleaned_description  \\\n",
              "0  the room was kind of clean but had a very stro...   \n",
              "1  i stayed at the crown plaza april   april   th...   \n",
              "2  i booked this hotel through hotwire at the low...   \n",
              "3  stayed here with husband and sons on the way t...   \n",
              "4  my girlfriends and i stayed here to celebrate ...   \n",
              "5  we had  rooms one was very nice and clearly ha...   \n",
              "6  my husband and i have stayed in this hotel a f...   \n",
              "7  my wife  i stayed in this glorious city a whil...   \n",
              "8  my boyfriend and i stayed at the fairmont on a...   \n",
              "9  wonderful staff great location but it was defi...   \n",
              "\n",
              "                             cleaned_description_new  \n",
              "0  the room was kind of clean but had a very stro...  \n",
              "1  i stayed at the crown plaza april   april   th...  \n",
              "2  i booked this hotel through hotwire at the low...  \n",
              "3  stayed here with husband and sons on the way t...  \n",
              "4  my girlfriends and i stayed here to celebrate ...  \n",
              "5  we had  rooms one was very nice and clearly ha...  \n",
              "6  my husband and i have stayed in this hotel a f...  \n",
              "7  my wife  i stayed in this glorious city a whil...  \n",
              "8  my boyfriend and i stayed at the fairmont on a...  \n",
              "9  wonderful staff great location but it was defi...  "
            ]
          },
          "execution_count": 128,
          "metadata": {},
          "output_type": "execute_result"
        }
      ],
      "source": [
        "df['cleaned_description_new'] = pd.DataFrame(df.cleaned_description.apply(cleaned1))\n",
        "df.head(10)"
      ]
    },
    {
      "cell_type": "markdown",
      "metadata": {
        "id": "Qc-wWmsPWcbV"
      },
      "source": [
        "WordCloud"
      ]
    },
    {
      "cell_type": "code",
      "execution_count": 129,
      "metadata": {
        "id": "sha_JXlXWcbV"
      },
      "outputs": [],
      "source": [
        "for val in df['cleaned_description_new']:\n",
        "    tokens = val.split()\n",
        "\n",
        "    # Converts each token into lowercase\n",
        "    text = \"\" \n",
        "    text += \" \".join(tokens)+\" \"\n"
      ]
    },
    {
      "cell_type": "code",
      "execution_count": 130,
      "metadata": {
        "id": "KrRQZGSgWcbV",
        "outputId": "324d7947-4c74-4df2-ee5d-790b5b99c0d5"
      },
      "outputs": [
        {
          "data": {
            "image/png": "[encoded data removed]",
            "text/plain": [
              "<Figure size 720x576 with 1 Axes>"
            ]
          },
          "metadata": {
            "needs_background": "light"
          },
          "output_type": "display_data"
        }
      ],
      "source": [
        "from wordcloud import WordCloud, STOPWORDS\n",
        "\n",
        "#stopword object set \n",
        "stopwords = set(STOPWORDS)\n",
        "\n",
        "#plot word cloud\n",
        "word_cloud = WordCloud(width = 4000, height = 2000, background_color = \"white\", stopwords = stopwords).generate(text)\n",
        "plt.figure(figsize = (10, 8), facecolor = None)\n",
        "plt.imshow(word_cloud, interpolation='bilinear')\n",
        "plt.axis(\"off\")\n",
        "plt.show()"
      ]
    },
    {
      "cell_type": "markdown",
      "metadata": {
        "id": "5Lwgfry1WcbV"
      },
      "source": [
        "Model building "
      ]
    },
    {
      "cell_type": "code",
      "execution_count": 131,
      "metadata": {
        "id": "gt1Qt_GVWcbW"
      },
      "outputs": [],
      "source": [
        "from sklearn.model_selection import train_test_split\n",
        "\n",
        "#define y, x variable\n",
        "X = df['cleaned_description_new']\n",
        "y = df['Is_Response']\n",
        "\n",
        "#split dataset\n",
        "X_train, X_test, y_train, y_test = train_test_split(X,y, test_size=0.1, random_state =  225)"
      ]
    },
    {
      "cell_type": "code",
      "execution_count": 132,
      "metadata": {
        "id": "3LtCtjQHWcbW"
      },
      "outputs": [],
      "source": [
        "from sklearn.feature_extraction.text import TfidfVectorizer\n",
        "from sklearn.linear_model import LogisticRegression\n",
        "from sklearn.ensemble import RandomForestClassifier\n",
        "from sklearn.tree import DecisionTreeClassifier\n",
        "from sklearn.pipeline import Pipeline\n",
        "from sklearn.metrics import confusion_matrix\n",
        "\n",
        "#initializing objects of vectorizer and classifier\n",
        "tvec = TfidfVectorizer()\n",
        "\n",
        "#Logistic Regression\n",
        "clf2 = LogisticRegression(solver=\"lbfgs\")\n",
        "#Random forest\n",
        "rfm = RandomForestClassifier()\n",
        "#Decision Tree\n",
        "dtm = DecisionTreeClassifier()"
      ]
    },
    {
      "cell_type": "code",
      "execution_count": 133,
      "metadata": {
        "id": "WeeBU2AnWcbW",
        "outputId": "9c2c4d8e-ec1f-40fa-ffa8-1987e99450dc"
      },
      "outputs": [
        {
          "name": "stdout",
          "output_type": "stream",
          "text": [
            "\n",
            "\n",
            "88.5% Accurate\n"
          ]
        }
      ],
      "source": [
        "model = Pipeline([\n",
        "    ('vectorizer', tvec),\n",
        "    ('classifier', clf2)\n",
        "])\n",
        "\n",
        "#train model\n",
        "model.fit(X_train, y_train)\n",
        "\n",
        "#get model performance\n",
        "predictions = model.predict(X_test)\n",
        "confusion_matrix(predictions, y_test)\n",
        "print(\"\\n\")\n",
        "#test accuracy\n",
        "print(f'{round(model.score(X_test, y_test),2) * 100}% Accurate')"
      ]
    },
    {
      "cell_type": "code",
      "execution_count": 134,
      "metadata": {},
      "outputs": [
        {
          "name": "stdout",
          "output_type": "stream",
          "text": [
            "\n",
            "\n",
            "80.0% Accurate\n"
          ]
        }
      ],
      "source": [
        "model2 = Pipeline([\n",
        "    ('vectorizer', tvec),\n",
        "    ('classifier', rfm)\n",
        "])\n",
        "\n",
        "#train model\n",
        "model2.fit(X_train, y_train)\n",
        "\n",
        "#get model performance\n",
        "predictions = model2.predict(X_test)\n",
        "confusion_matrix(predictions, y_test)\n",
        "print(\"\\n\")\n",
        "#test accuracy\n",
        "print(f'{round(model2.score(X_test, y_test),2) * 100}% Accurate')"
      ]
    },
    {
      "cell_type": "code",
      "execution_count": 135,
      "metadata": {},
      "outputs": [
        {
          "name": "stdout",
          "output_type": "stream",
          "text": [
            "\n",
            "\n",
            "74.0% Accurate\n"
          ]
        }
      ],
      "source": [
        "model3 = Pipeline([\n",
        "    ('vectorizer', tvec),\n",
        "    ('classifier', dtm)\n",
        "])\n",
        "\n",
        "#train model\n",
        "model3.fit(X_train, y_train)\n",
        "\n",
        "#get model performance\n",
        "predictions = model3.predict(X_test)\n",
        "confusion_matrix(predictions, y_test)\n",
        "print(\"\\n\")\n",
        "#test accuracy\n",
        "print(f'{round(model3.score(X_test, y_test),2) * 100}% Accurate')"
      ]
    },
    {
      "cell_type": "markdown",
      "metadata": {},
      "source": [
        "In this case Logistic Regression is performing better unlike other model "
      ]
    },
    {
      "cell_type": "markdown",
      "metadata": {
        "id": "9u9zmKB_WcbX"
      },
      "source": [
        "Testing model"
      ]
    },
    {
      "cell_type": "code",
      "execution_count": 136,
      "metadata": {
        "id": "xskP9hA0WcbX",
        "outputId": "e17213d4-b37d-45c9-fa41-ec4a93fbca1c"
      },
      "outputs": [
        {
          "name": "stdout",
          "output_type": "stream",
          "text": [
            "['happy']\n"
          ]
        }
      ],
      "source": [
        "example = [\"I am happy\"]\n",
        "result = model.predict(example)\n",
        "print(result)"
      ]
    }
  ],
  "metadata": {
    "colab": {
      "provenance": []
    },
    "kernelspec": {
      "display_name": "Python 3.9.12 ('base')",
      "language": "python",
      "name": "python3"
    },
    "language_info": {
      "codemirror_mode": {
        "name": "ipython",
        "version": 3
      },
      "file_extension": ".py",
      "mimetype": "text/x-python",
      "name": "python",
      "nbconvert_exporter": "python",
      "pygments_lexer": "ipython3",
      "version": "3.9.12"
    },
    "orig_nbformat": 4,
    "vscode": {
      "interpreter": {
        "hash": "7df5ff22c30696bcdfe51637d602814712ef66471d455c1e4f07de186bda1d66"
      }
    }
  },
  "nbformat": 4,
  "nbformat_minor": 0
}
